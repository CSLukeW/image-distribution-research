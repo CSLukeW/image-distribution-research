{
 "cells": [
  {
   "cell_type": "markdown",
   "metadata": {
    "pycharm": {
     "name": "#%% md\n"
    }
   },
   "source": [
    "# Pipeline for Training and Analysis of 20 2x100 FC models"
   ]
  },
  {
   "cell_type": "markdown",
   "metadata": {
    "pycharm": {
     "name": "#%% md\n"
    }
   },
   "source": [
    "## Imports and Hyperparameters"
   ]
  },
  {
   "cell_type": "code",
   "execution_count": 11,
   "metadata": {
    "pycharm": {
     "name": "#%%\n"
    }
   },
   "outputs": [
    {
     "name": "stdout",
     "output_type": "stream",
     "text": [
      "cuda\n"
     ]
    }
   ],
   "source": [
    "import torch\n",
    "import torch.nn as nn\n",
    "import torch.nn.functional as F\n",
    "import torch.optim as optim\n",
    "import torchvision\n",
    "from torch.utils.data import Subset\n",
    "\n",
    "from PIL import Image\n",
    "\n",
    "from src.cifar.models import *\n",
    "from src.util import split_train_val, test, train, save_model\n",
    "\n",
    "import matplotlib.pyplot as plt\n",
    "\n",
    "import os\n",
    "\n",
    "import numpy as np\n",
    "\n",
    "device = torch.device('cuda' if torch.cuda.is_available() else 'cpu')\n",
    "\n",
    "# this should print 'cuda' if you are assigned a GPU\n",
    "print(device)\n",
    "\n",
    "train_batch_size = 100\n",
    "test_batch_size = 100\n",
    "n_epochs = 5\n",
    "learning_rate = 1e-2\n",
    "seed = 100\n",
    "input_dim = 2\n",
    "out_dim = 4\n",
    "num_hidden_layers = 2\n",
    "layer_size = 10\n",
    "momentum = 0.9\n",
    "weight_decay_lam = 0.0001\n",
    "\n",
    "fc_model_params = [(1,10), (2,10), (3,10), (4,10)]\n",
    "\n",
    "complex_models = []"
   ]
  },
  {
   "cell_type": "markdown",
   "metadata": {
    "pycharm": {
     "name": "#%% md\n"
    }
   },
   "source": [
    "## Generate Data"
   ]
  },
  {
   "cell_type": "code",
   "execution_count": 12,
   "metadata": {
    "pycharm": {
     "name": "#%%\n"
    }
   },
   "outputs": [
    {
     "name": "stdout",
     "output_type": "stream",
     "text": [
      "torch.Size([1600, 2])\n",
      "torch.Size([1600])\n"
     ]
    },
    {
     "data": {
      "text/plain": "<Figure size 640x480 with 1 Axes>",
      "image/png": "[encoded data removed]"
     },
     "metadata": {},
     "output_type": "display_data"
    }
   ],
   "source": [
    "centers = [(1,0), (0,-1), (-1,0), (0,1)]\n",
    "data = torch.FloatTensor()\n",
    "labels = torch.FloatTensor()\n",
    "for i in range(out_dim):\n",
    "    for center in centers:\n",
    "        x_c = center[0]*i\n",
    "        y_c = center[1]*i\n",
    "\n",
    "        if i % 2 == 0:\n",
    "            x_offset = 0.25\n",
    "            y_offset = 0.1\n",
    "        else:\n",
    "            x_offset = 0.1\n",
    "            y_offset = 0.25\n",
    "\n",
    "        \"\"\"if x_c < 0:\n",
    "            x_offset *= -1\n",
    "        if y_c < 0:\n",
    "            y_offset *= -1\"\"\"\n",
    "\n",
    "        x = torch.FloatTensor(100).uniform_(x_c-x_offset,x_c+x_offset)\n",
    "        y = torch.FloatTensor(100).uniform_(y_c-y_offset,y_c+y_offset)\n",
    "        new_labels = torch.FloatTensor(100).fill_(i)\n",
    "        points = torch.stack([x,y], axis=1)\n",
    "\n",
    "        data = torch.cat([data, points])\n",
    "        labels = torch.cat([labels, new_labels])\n",
    "\n",
    "print(data.shape)\n",
    "print(labels.shape)\n",
    "\n",
    "plt.scatter([x[0] for x in data], [x[1] for x in data], c=[x for x in labels])\n",
    "plt.savefig(\"plots/TOY/distribution.png\")"
   ]
  },
  {
   "cell_type": "code",
   "execution_count": 13,
   "metadata": {
    "pycharm": {
     "name": "#%%\n"
    }
   },
   "outputs": [
    {
     "name": "stdout",
     "output_type": "stream",
     "text": [
      "training data size:1334\n",
      "validation data size:266\n"
     ]
    }
   ],
   "source": [
    "train_dataset = torch.utils.data.TensorDataset(data, labels)\n",
    "train_dataset, val_dataset = split_train_val(train_dataset, valid_ratio=1/6)\n",
    "print('training data size:{}'.format(len(train_dataset)))\n",
    "print('validation data size:{}'.format(len(val_dataset)))"
   ]
  },
  {
   "cell_type": "markdown",
   "metadata": {
    "pycharm": {
     "name": "#%% md\n"
    }
   },
   "source": [
    "## Loaders"
   ]
  },
  {
   "cell_type": "code",
   "execution_count": 14,
   "metadata": {
    "pycharm": {
     "name": "#%%\n"
    }
   },
   "outputs": [
    {
     "name": "stdout",
     "output_type": "stream",
     "text": [
      "training data size:1334\n",
      "validation data size:266\n"
     ]
    }
   ],
   "source": [
    "train_loader = torch.utils.data.DataLoader(train_dataset, batch_size=train_batch_size, shuffle=True)\n",
    "val_loader = torch.utils.data.DataLoader(val_dataset, batch_size=train_batch_size, shuffle=False)\n",
    "#test_loader = torch.utils.data.DataLoader(test_dataset, batch_size=test_batch_size, shuffle=False)\n",
    "#raw_test_loader = torch.utils.data.DataLoader(test_data, batch_size=test_batch_size, shuffle=False)\n",
    "\n",
    "# sanity check\n",
    "print('training data size:{}'.format(len(train_loader.dataset)))\n",
    "print('validation data size:{}'.format(len(val_loader.dataset)))\n",
    "#print('test data size:{}'.format(len(test_loader.dataset)))"
   ]
  },
  {
   "cell_type": "markdown",
   "metadata": {
    "pycharm": {
     "name": "#%% md\n"
    }
   },
   "source": [
    "## Create Networks"
   ]
  },
  {
   "cell_type": "code",
   "execution_count": 15,
   "metadata": {
    "pycharm": {
     "name": "#%%\n"
    }
   },
   "outputs": [],
   "source": [
    "fc_models = [FC(input_dim, out_dim, num_hidden_layers, layer_size) for num_hidden_layers, layer_size in fc_model_params]\n",
    "complex_models = load_pretrained_models(complex_models)"
   ]
  },
  {
   "cell_type": "markdown",
   "metadata": {
    "pycharm": {
     "name": "#%% md\n"
    }
   },
   "source": [
    "## Train Networks"
   ]
  },
  {
   "cell_type": "code",
   "execution_count": 16,
   "metadata": {
    "pycharm": {
     "name": "#%%\n"
    }
   },
   "outputs": [
    {
     "name": "stdout",
     "output_type": "stream",
     "text": [
      "Training FC model 1\n",
      "\n",
      "Train Epoch: 1 [0/1334 (0%)]\tLoss: 1.479041\n",
      "\tAccuracy: 36.88%\n",
      "\n",
      "Train Epoch: 2 [0/1334 (0%)]\tLoss: 1.372215\n",
      "\tAccuracy: 46.70%\n",
      "\n",
      "Train Epoch: 3 [0/1334 (0%)]\tLoss: 1.276489\n",
      "\tAccuracy: 42.28%\n",
      "\n",
      "Train Epoch: 4 [0/1334 (0%)]\tLoss: 1.200943\n",
      "\tAccuracy: 51.50%\n",
      "\n",
      "Train Epoch: 5 [0/1334 (0%)]\tLoss: 1.141317\n",
      "\tAccuracy: 54.87%\n",
      "Test set: Avg. loss: -0.0247, Accuracy: 132/266 (49.62%)\n",
      "Saving FC model: FC(\n",
      "  (layer_list): ModuleList(\n",
      "    (0): Linear(in_features=2, out_features=10, bias=True)\n",
      "    (1): Linear(in_features=10, out_features=4, bias=True)\n",
      "  )\n",
      ")\n",
      "Training FC model 2\n",
      "\n",
      "Train Epoch: 1 [0/1334 (0%)]\tLoss: 1.430282\n",
      "\tAccuracy: 24.59%\n",
      "\n",
      "Train Epoch: 2 [0/1334 (0%)]\tLoss: 1.372162\n",
      "\tAccuracy: 28.94%\n",
      "\n",
      "Train Epoch: 3 [0/1334 (0%)]\tLoss: 1.330861\n",
      "\tAccuracy: 51.12%\n",
      "\n",
      "Train Epoch: 4 [0/1334 (0%)]\tLoss: 1.274271\n",
      "\tAccuracy: 51.27%\n",
      "\n",
      "Train Epoch: 5 [0/1334 (0%)]\tLoss: 1.274556\n",
      "\tAccuracy: 51.27%\n",
      "Test set: Avg. loss: -1.2444, Accuracy: 116/266 (43.61%)\n",
      "Saving FC model: FC(\n",
      "  (layer_list): ModuleList(\n",
      "    (0): Linear(in_features=2, out_features=10, bias=True)\n",
      "    (1): Linear(in_features=10, out_features=10, bias=True)\n",
      "    (2): Linear(in_features=10, out_features=4, bias=True)\n",
      "  )\n",
      ")\n",
      "Training FC model 3\n",
      "\n",
      "Train Epoch: 1 [0/1334 (0%)]\tLoss: 1.431250\n",
      "\tAccuracy: 25.41%\n",
      "\n",
      "Train Epoch: 2 [0/1334 (0%)]\tLoss: 1.390723\n",
      "\tAccuracy: 25.41%\n",
      "\n",
      "Train Epoch: 3 [0/1334 (0%)]\tLoss: 1.388108\n",
      "\tAccuracy: 25.41%\n",
      "\n",
      "Train Epoch: 4 [0/1334 (0%)]\tLoss: 1.375719\n",
      "\tAccuracy: 21.59%\n",
      "\n",
      "Train Epoch: 5 [0/1334 (0%)]\tLoss: 1.381334\n",
      "\tAccuracy: 16.19%\n",
      "Test set: Avg. loss: -0.1124, Accuracy: 43/266 (16.17%)\n",
      "Saving FC model: FC(\n",
      "  (layer_list): ModuleList(\n",
      "    (0): Linear(in_features=2, out_features=10, bias=True)\n",
      "    (1): Linear(in_features=10, out_features=10, bias=True)\n",
      "    (2): Linear(in_features=10, out_features=10, bias=True)\n",
      "    (3): Linear(in_features=10, out_features=4, bias=True)\n",
      "  )\n",
      ")\n",
      "Training FC model 4\n",
      "\n",
      "Train Epoch: 1 [0/1334 (0%)]\tLoss: 1.373637\n",
      "\tAccuracy: 25.86%\n",
      "\n",
      "Train Epoch: 2 [0/1334 (0%)]\tLoss: 1.379131\n",
      "\tAccuracy: 25.86%\n",
      "\n",
      "Train Epoch: 3 [0/1334 (0%)]\tLoss: 1.369930\n",
      "\tAccuracy: 25.86%\n",
      "\n",
      "Train Epoch: 4 [0/1334 (0%)]\tLoss: 1.376784\n",
      "\tAccuracy: 30.21%\n",
      "\n",
      "Train Epoch: 5 [0/1334 (0%)]\tLoss: 1.375824\n",
      "\tAccuracy: 38.31%\n",
      "Test set: Avg. loss: 0.1905, Accuracy: 89/266 (33.46%)\n",
      "Saving FC model: FC(\n",
      "  (layer_list): ModuleList(\n",
      "    (0): Linear(in_features=2, out_features=10, bias=True)\n",
      "    (1): Linear(in_features=10, out_features=10, bias=True)\n",
      "    (2): Linear(in_features=10, out_features=10, bias=True)\n",
      "    (3): Linear(in_features=10, out_features=10, bias=True)\n",
      "    (4): Linear(in_features=10, out_features=4, bias=True)\n",
      "  )\n",
      ")\n",
      "Test set: Avg. loss: -0.8397, Accuracy: 747/1334 (56.00%)\n",
      "Test set: Avg. loss: -6.2873, Accuracy: 684/1334 (51.27%)\n",
      "Test set: Avg. loss: -0.6188, Accuracy: 236/1334 (17.69%)\n",
      "Test set: Avg. loss: 0.8202, Accuracy: 511/1334 (38.31%)\n"
     ]
    }
   ],
   "source": [
    "for i, model in enumerate(fc_models):\n",
    "    model.to(device)\n",
    "\n",
    "    optimizer = optim.SGD(model.parameters(), lr=learning_rate, momentum=momentum, weight_decay=weight_decay_lam)\n",
    "\n",
    "    print(\"Training FC model {}\".format(i+1))\n",
    "\n",
    "    for epoch in range(1, n_epochs + 1):\n",
    "        train(model, train_loader, optimizer, epoch, device)\n",
    "\n",
    "    test(model, val_loader, device)\n",
    "\n",
    "    print(\"Saving FC model: {}\".format(model))\n",
    "    save_model(model, dataset=\"TOY\", filename=\"FC\" + str(i))\n",
    "\n",
    "for i, model in enumerate(os.listdir(\"./models/TOY/\")):\n",
    "    if model.endswith(\".pth\") and \"FC\" in model:\n",
    "        fc_models[i].load_state_dict(torch.load(\"./models/TOY/\" + model))\n",
    "        with torch.no_grad():\n",
    "            test(fc_models[i].to(device), train_loader, device)"
   ]
  },
  {
   "cell_type": "markdown",
   "metadata": {
    "pycharm": {
     "name": "#%% md\n"
    }
   },
   "source": [
    "## Missclassification Tracking\n",
    "\n",
    "Images tracked as tuples (batch_idx, image_idx) and can be accessed from dataset as test_dataset[batch_idx][image_idx]"
   ]
  },
  {
   "cell_type": "code",
   "execution_count": 17,
   "metadata": {
    "pycharm": {
     "name": "#%%\n"
    }
   },
   "outputs": [
    {
     "name": "stdout",
     "output_type": "stream",
     "text": [
      "Starting model test: FC(\n",
      "  (layer_list): ModuleList(\n",
      "    (0): Linear(in_features=2, out_features=10, bias=True)\n",
      "    (1): Linear(in_features=10, out_features=4, bias=True)\n",
      "  )\n",
      ")\n",
      "Finished\n",
      "Starting model test: FC(\n",
      "  (layer_list): ModuleList(\n",
      "    (0): Linear(in_features=2, out_features=10, bias=True)\n",
      "    (1): Linear(in_features=10, out_features=10, bias=True)\n",
      "    (2): Linear(in_features=10, out_features=4, bias=True)\n",
      "  )\n",
      ")\n",
      "Finished\n",
      "Starting model test: FC(\n",
      "  (layer_list): ModuleList(\n",
      "    (0): Linear(in_features=2, out_features=10, bias=True)\n",
      "    (1): Linear(in_features=10, out_features=10, bias=True)\n",
      "    (2): Linear(in_features=10, out_features=10, bias=True)\n",
      "    (3): Linear(in_features=10, out_features=4, bias=True)\n",
      "  )\n",
      ")\n",
      "Finished\n",
      "Starting model test: FC(\n",
      "  (layer_list): ModuleList(\n",
      "    (0): Linear(in_features=2, out_features=10, bias=True)\n",
      "    (1): Linear(in_features=10, out_features=10, bias=True)\n",
      "    (2): Linear(in_features=10, out_features=10, bias=True)\n",
      "    (3): Linear(in_features=10, out_features=10, bias=True)\n",
      "    (4): Linear(in_features=10, out_features=4, bias=True)\n",
      "  )\n",
      ")\n",
      "Finished\n"
     ]
    }
   ],
   "source": [
    "misses = dict()\n",
    "complex_list = list(complex_models.values())\n",
    "for model in fc_models + complex_list:\n",
    "    print(\"Starting model test: {}\".format(model))\n",
    "\n",
    "    model.to(device)\n",
    "    model.eval()\n",
    "\n",
    "    with torch.no_grad():\n",
    "        \n",
    "        for i, (data, target) in enumerate(val_loader):\n",
    "\n",
    "            data = data.to(device)\n",
    "            target = target.to(device)\n",
    "\n",
    "            output = model(data)\n",
    "            pred = output.argmax(dim=1, keepdim=True)\n",
    "\n",
    "            missed = pred.not_equal(target.data.view_as(pred)).view(-1).cpu().numpy()\n",
    "\n",
    "            for j, miss in enumerate(missed):\n",
    "                if miss:\n",
    "                    if (i, j) in misses:\n",
    "                        misses[(i, j)] += 1\n",
    "                    else:\n",
    "                        misses[(i, j)] = 1\n",
    "\n",
    "    print(\"Finished\")"
   ]
  },
  {
   "cell_type": "code",
   "execution_count": 18,
   "metadata": {
    "pycharm": {
     "name": "#%%\n"
    }
   },
   "outputs": [
    {
     "name": "stdout",
     "output_type": "stream",
     "text": [
      "0\n",
      "249\n"
     ]
    }
   ],
   "source": [
    "all_miss = {k: v for k, v in misses.items() if v > 0}\n",
    "significant = {k: v for k, v in misses.items() if v > 19}\n",
    "print(len(significant))\n",
    "print(len(all_miss))"
   ]
  },
  {
   "cell_type": "code",
   "execution_count": 19,
   "metadata": {
    "pycharm": {
     "name": "#%%\n"
    }
   },
   "outputs": [],
   "source": [
    "y = list(all_miss.values()) + [0]*(len(val_dataset)-len(all_miss))\n",
    "\n",
    "fig = plt.figure(figsize=(12, 8), facecolor=\"w\")\n",
    "plt.hist(y, [x-0.5 for x in range(22)], edgecolor=\"k\")\n",
    "plt.xlabel(\"Number of Missclassifications\")\n",
    "plt.ylabel(\"Frequency\")\n",
    "plt.savefig(\"plots/TOY/im_freq.png\")\n",
    "plt.close()"
   ]
  },
  {
   "cell_type": "markdown",
   "source": [
    "## Draw Decision Boundaries"
   ],
   "metadata": {
    "collapsed": false,
    "pycharm": {
     "name": "#%% md\n"
    }
   }
  },
  {
   "cell_type": "code",
   "execution_count": 20,
   "metadata": {
    "pycharm": {
     "name": "#%%\n"
    }
   },
   "outputs": [
    {
     "name": "stdout",
     "output_type": "stream",
     "text": [
      "Completed model 1\n",
      "Completed model 2\n",
      "Completed model 3\n",
      "Completed model 4\n"
     ]
    },
    {
     "data": {
      "text/plain": "<Figure size 640x480 with 1 Axes>",
      "image/png": "[encoded data removed]"
     },
     "metadata": {},
     "output_type": "display_data"
    }
   ],
   "source": [
    "xs = np.arange(-8,8,.1)\n",
    "ys = np.arange(-8,8,.1)\n",
    "\n",
    "for i, model in enumerate(fc_models):\n",
    "    points = []\n",
    "    preds = []\n",
    "    model.to(device)\n",
    "    for x in xs:\n",
    "        for y in ys:\n",
    "\n",
    "            points.append((x,y))\n",
    "\n",
    "            with torch.no_grad():\n",
    "                preds.append(model(torch.FloatTensor([x,y]).to(device)).argmax(dim=1, keepdim=False))\n",
    "\n",
    "    plt.scatter([x[0] for x in points], [y[1] for y in points], c=[x.cpu() for x in preds])\n",
    "    plt.title(\"Decision Boundary for Model {}\".format(i))\n",
    "    plt.savefig(\"plots/TOY/boundary_{}\".format(i))\n",
    "    print(\"Completed model {}\".format(i+1))"
   ]
  },
  {
   "cell_type": "code",
   "execution_count": 20,
   "outputs": [],
   "source": [],
   "metadata": {
    "collapsed": false,
    "pycharm": {
     "name": "#%%\n"
    }
   }
  }
 ],
 "metadata": {
  "kernelspec": {
   "display_name": "Python 3.10.5 64-bit",
   "language": "python",
   "name": "python3"
  },
  "language_info": {
   "codemirror_mode": {
    "name": "ipython",
    "version": 3
   },
   "file_extension": ".py",
   "mimetype": "text/x-python",
   "name": "python",
   "nbconvert_exporter": "python",
   "pygments_lexer": "ipython3",
   "version": "3.10.5"
  },
  "orig_nbformat": 4,
  "vscode": {
   "interpreter": {
    "hash": "e7370f93d1d0cde622a1f8e1c04877d8463912d04d973331ad4851f04de6915a"
   }
  }
 },
 "nbformat": 4,
 "nbformat_minor": 2
}