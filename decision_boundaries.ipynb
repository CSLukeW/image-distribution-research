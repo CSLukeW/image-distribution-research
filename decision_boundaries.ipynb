{
 "cells": [
  {
   "cell_type": "markdown",
   "metadata": {
    "pycharm": {
     "name": "#%% md\n"
    }
   },
   "source": [
    "# Pipeline for Training and Analysis of 20 2x100 FC models"
   ]
  },
  {
   "cell_type": "markdown",
   "metadata": {
    "pycharm": {
     "name": "#%% md\n"
    }
   },
   "source": [
    "## Imports and Hyperparameters"
   ]
  },
  {
   "cell_type": "code",
   "execution_count": 70,
   "metadata": {
    "pycharm": {
     "name": "#%%\n"
    }
   },
   "outputs": [
    {
     "name": "stdout",
     "output_type": "stream",
     "text": [
      "cuda\n"
     ]
    }
   ],
   "source": [
    "import torch\n",
    "import torch.nn as nn\n",
    "import torch.nn.functional as F\n",
    "import torch.optim as optim\n",
    "import torchvision\n",
    "from torch.utils.data import Subset\n",
    "import random\n",
    "\n",
    "from PIL import Image\n",
    "\n",
    "from src.cifar.models import *\n",
    "from src.util import split_train_val, test, train, save_model\n",
    "\n",
    "import matplotlib.pyplot as plt\n",
    "import matplotlib\n",
    "\n",
    "import os\n",
    "\n",
    "import numpy as np\n",
    "\n",
    "device = torch.device('cuda' if torch.cuda.is_available() else 'cpu')\n",
    "\n",
    "# this should print 'cuda' if you are assigned a GPU\n",
    "print(device)\n",
    "\n",
    "train_batch_size = 100\n",
    "test_batch_size = 100\n",
    "n_epochs = 30\n",
    "learning_rate = 1e-2\n",
    "seed = 100\n",
    "input_dim = 2\n",
    "out_dim = 4\n",
    "num_hidden_layers = 2\n",
    "layer_size = 10\n",
    "momentum = 0.9\n",
    "weight_decay_lam = 0.0001\n",
    "\n",
    "fc_model_params = [(1,200), (2,200)] #, (3,50), (4,50)]\n",
    "\n",
    "complex_models = []\n",
    "\n",
    "PLOT_DIR = \"TOY6\""
   ]
  },
  {
   "cell_type": "markdown",
   "metadata": {
    "pycharm": {
     "name": "#%% md\n"
    }
   },
   "source": [
    "## Generate Data"
   ]
  },
  {
   "cell_type": "code",
   "execution_count": 71,
   "metadata": {
    "pycharm": {
     "name": "#%%\n"
    }
   },
   "outputs": [
    {
     "name": "stdout",
     "output_type": "stream",
     "text": [
      "torch.Size([1600, 2])\n",
      "torch.Size([1600])\n"
     ]
    },
    {
     "data": {
      "image/png": "[encoded data removed]",
      "text/plain": [
       "<Figure size 432x288 with 1 Axes>"
      ]
     },
     "metadata": {
      "needs_background": "light"
     },
     "output_type": "display_data"
    }
   ],
   "source": [
    "# centers = [(1,1), (-1,-1), (-1,1), (1,-1)]\n",
    "centers = [(1,0), (0,-1), (-1,0), (0,1)]\n",
    "# centers = [(0,0)]*4\n",
    "# centers = [(1,1), (0,-1), (-1,0)]\n",
    "data = torch.FloatTensor()\n",
    "labels = torch.FloatTensor()\n",
    "for i in range(1, out_dim+1):\n",
    "    for center in centers:\n",
    "        x_c = center[0]*i\n",
    "        y_c = center[1]*i\n",
    "\n",
    "        if i % 2 == 0:\n",
    "            x_offset = 0.25\n",
    "            y_offset = 0.1\n",
    "        else:\n",
    "            x_offset = 0.1\n",
    "            y_offset = 0.25\n",
    "\n",
    "        \"\"\"if x_c < 0:\n",
    "            x_offset *= -1\n",
    "        if y_c < 0:\n",
    "            y_offset *= -1\"\"\"\n",
    "\n",
    "        x = torch.FloatTensor(100).uniform_(x_c-x_offset,x_c+x_offset)\n",
    "        y = torch.FloatTensor(100).uniform_(y_c-y_offset,y_c+y_offset)\n",
    "        new_labels = torch.FloatTensor(100).fill_(random.choice([x for x in range(out_dim)]))\n",
    "        points = torch.stack([x,y], axis=1)\n",
    "\n",
    "        data = torch.cat([data, points])\n",
    "        labels = torch.cat([labels, new_labels])\n",
    "\n",
    "print(data.shape)\n",
    "print(labels.shape)\n",
    "\n",
    "colors = [\"pink\", \"blue\", \"green\" , \"yellow\"]\n",
    "\n",
    "plt.scatter([x[0] for x in data], [x[1] for x in data], c=[x for x in labels], cmap=matplotlib.colors.ListedColormap(colors))\n",
    "plt.savefig(\"plots/\" + PLOT_DIR + \"/distribution.png\")"
   ]
  },
  {
   "cell_type": "code",
   "execution_count": 72,
   "metadata": {
    "pycharm": {
     "name": "#%%\n"
    }
   },
   "outputs": [
    {
     "name": "stdout",
     "output_type": "stream",
     "text": [
      "training data size:1334\n",
      "validation data size:266\n"
     ]
    }
   ],
   "source": [
    "train_dataset = torch.utils.data.TensorDataset(data, labels)\n",
    "train_dataset, val_dataset = split_train_val(train_dataset, valid_ratio=1/6)\n",
    "print('training data size:{}'.format(len(train_dataset)))\n",
    "print('validation data size:{}'.format(len(val_dataset)))"
   ]
  },
  {
   "cell_type": "markdown",
   "metadata": {
    "pycharm": {
     "name": "#%% md\n"
    }
   },
   "source": [
    "## Loaders"
   ]
  },
  {
   "cell_type": "code",
   "execution_count": 73,
   "metadata": {
    "pycharm": {
     "name": "#%%\n"
    }
   },
   "outputs": [
    {
     "name": "stdout",
     "output_type": "stream",
     "text": [
      "training data size:1334\n",
      "validation data size:266\n"
     ]
    }
   ],
   "source": [
    "train_loader = torch.utils.data.DataLoader(train_dataset, batch_size=train_batch_size, shuffle=True)\n",
    "val_loader = torch.utils.data.DataLoader(val_dataset, batch_size=train_batch_size, shuffle=False)\n",
    "#test_loader = torch.utils.data.DataLoader(test_dataset, batch_size=test_batch_size, shuffle=False)\n",
    "#raw_test_loader = torch.utils.data.DataLoader(test_data, batch_size=test_batch_size, shuffle=False)\n",
    "\n",
    "# sanity check\n",
    "print('training data size:{}'.format(len(train_loader.dataset)))\n",
    "print('validation data size:{}'.format(len(val_loader.dataset)))\n",
    "#print('test data size:{}'.format(len(test_loader.dataset)))"
   ]
  },
  {
   "cell_type": "markdown",
   "metadata": {
    "pycharm": {
     "name": "#%% md\n"
    }
   },
   "source": [
    "## Create Networks"
   ]
  },
  {
   "cell_type": "code",
   "execution_count": 74,
   "metadata": {
    "pycharm": {
     "name": "#%%\n"
    }
   },
   "outputs": [],
   "source": [
    "fc_models = [FC(input_dim, out_dim, num_hidden_layers, layer_size) for num_hidden_layers, layer_size in fc_model_params]\n",
    "complex_models = load_pretrained_models(complex_models)"
   ]
  },
  {
   "cell_type": "markdown",
   "metadata": {
    "pycharm": {
     "name": "#%% md\n"
    }
   },
   "source": [
    "## Train Networks"
   ]
  },
  {
   "cell_type": "code",
   "execution_count": 75,
   "metadata": {
    "pycharm": {
     "name": "#%%\n"
    }
   },
   "outputs": [
    {
     "name": "stdout",
     "output_type": "stream",
     "text": [
      "Training FC model 1\n",
      "\n",
      "Train Epoch: 1 [0/1334 (0%)]\tLoss: 1.518087\n",
      "\tAccuracy: 47.38%\n",
      "\n",
      "Train Epoch: 2 [0/1334 (0%)]\tLoss: 0.978391\n",
      "\tAccuracy: 57.95%\n",
      "\n",
      "Train Epoch: 3 [0/1334 (0%)]\tLoss: 0.729185\n",
      "\tAccuracy: 56.67%\n",
      "\n",
      "Train Epoch: 4 [0/1334 (0%)]\tLoss: 0.741313\n",
      "\tAccuracy: 65.82%\n",
      "\n",
      "Train Epoch: 5 [0/1334 (0%)]\tLoss: 0.706931\n",
      "\tAccuracy: 66.64%\n",
      "\n",
      "Train Epoch: 6 [0/1334 (0%)]\tLoss: 0.606852\n",
      "\tAccuracy: 68.07%\n",
      "\n",
      "Train Epoch: 7 [0/1334 (0%)]\tLoss: 0.669569\n",
      "\tAccuracy: 66.42%\n",
      "\n",
      "Train Epoch: 8 [0/1334 (0%)]\tLoss: 0.646577\n",
      "\tAccuracy: 71.21%\n",
      "\n",
      "Train Epoch: 9 [0/1334 (0%)]\tLoss: 0.631301\n",
      "\tAccuracy: 69.57%\n",
      "\n",
      "Train Epoch: 10 [0/1334 (0%)]\tLoss: 0.591382\n",
      "\tAccuracy: 72.71%\n",
      "\n",
      "Train Epoch: 11 [0/1334 (0%)]\tLoss: 0.582099\n",
      "\tAccuracy: 73.91%\n",
      "\n",
      "Train Epoch: 12 [0/1334 (0%)]\tLoss: 0.581277\n",
      "\tAccuracy: 69.42%\n",
      "\n",
      "Train Epoch: 13 [0/1334 (0%)]\tLoss: 0.593075\n",
      "\tAccuracy: 72.86%\n",
      "\n",
      "Train Epoch: 14 [0/1334 (0%)]\tLoss: 0.578897\n",
      "\tAccuracy: 72.71%\n",
      "\n",
      "Train Epoch: 15 [0/1334 (0%)]\tLoss: 0.568830\n",
      "\tAccuracy: 72.04%\n",
      "\n",
      "Train Epoch: 16 [0/1334 (0%)]\tLoss: 0.547161\n",
      "\tAccuracy: 76.24%\n",
      "\n",
      "Train Epoch: 17 [0/1334 (0%)]\tLoss: 0.586253\n",
      "\tAccuracy: 74.14%\n",
      "\n",
      "Train Epoch: 18 [0/1334 (0%)]\tLoss: 0.508657\n",
      "\tAccuracy: 70.01%\n",
      "\n",
      "Train Epoch: 19 [0/1334 (0%)]\tLoss: 0.526809\n",
      "\tAccuracy: 73.24%\n",
      "\n",
      "Train Epoch: 20 [0/1334 (0%)]\tLoss: 0.570107\n",
      "\tAccuracy: 75.86%\n",
      "\n",
      "Train Epoch: 21 [0/1334 (0%)]\tLoss: 0.608407\n",
      "\tAccuracy: 76.31%\n",
      "\n",
      "Train Epoch: 22 [0/1334 (0%)]\tLoss: 0.549390\n",
      "\tAccuracy: 77.89%\n",
      "\n",
      "Train Epoch: 23 [0/1334 (0%)]\tLoss: 0.505349\n",
      "\tAccuracy: 79.39%\n",
      "\n",
      "Train Epoch: 24 [0/1334 (0%)]\tLoss: 0.473264\n",
      "\tAccuracy: 78.79%\n",
      "\n",
      "Train Epoch: 25 [0/1334 (0%)]\tLoss: 0.478581\n",
      "\tAccuracy: 78.19%\n",
      "\n",
      "Train Epoch: 26 [0/1334 (0%)]\tLoss: 0.468080\n",
      "\tAccuracy: 78.64%\n",
      "\n",
      "Train Epoch: 27 [0/1334 (0%)]\tLoss: 0.458275\n",
      "\tAccuracy: 77.96%\n",
      "\n",
      "Train Epoch: 28 [0/1334 (0%)]\tLoss: 0.454494\n",
      "\tAccuracy: 82.31%\n",
      "\n",
      "Train Epoch: 29 [0/1334 (0%)]\tLoss: 0.464205\n",
      "\tAccuracy: 83.73%\n",
      "\n",
      "Train Epoch: 30 [0/1334 (0%)]\tLoss: 0.511533\n",
      "\tAccuracy: 83.36%\n",
      "Test set: Avg. loss: -16.4745, Accuracy: 239/266 (89.85%)\n",
      "Saving FC model: FC(\n",
      "  (layer_list): ModuleList(\n",
      "    (0): Linear(in_features=2, out_features=200, bias=True)\n",
      "    (1): Linear(in_features=200, out_features=4, bias=True)\n",
      "  )\n",
      ")\n",
      "Training FC model 2\n",
      "\n",
      "Train Epoch: 1 [0/1334 (0%)]\tLoss: 1.394984\n",
      "\tAccuracy: 43.18%\n",
      "\n",
      "Train Epoch: 2 [0/1334 (0%)]\tLoss: 0.934662\n",
      "\tAccuracy: 55.55%\n",
      "\n",
      "Train Epoch: 3 [0/1334 (0%)]\tLoss: 0.782489\n",
      "\tAccuracy: 55.25%\n",
      "\n",
      "Train Epoch: 4 [0/1334 (0%)]\tLoss: 0.720362\n",
      "\tAccuracy: 56.75%\n",
      "\n",
      "Train Epoch: 5 [0/1334 (0%)]\tLoss: 0.710112\n",
      "\tAccuracy: 62.59%\n",
      "\n",
      "Train Epoch: 6 [0/1334 (0%)]\tLoss: 0.734357\n",
      "\tAccuracy: 65.22%\n",
      "\n",
      "Train Epoch: 7 [0/1334 (0%)]\tLoss: 0.694621\n",
      "\tAccuracy: 64.84%\n",
      "\n",
      "Train Epoch: 8 [0/1334 (0%)]\tLoss: 0.563492\n",
      "\tAccuracy: 69.94%\n",
      "\n",
      "Train Epoch: 9 [0/1334 (0%)]\tLoss: 0.587248\n",
      "\tAccuracy: 76.01%\n",
      "\n",
      "Train Epoch: 10 [0/1334 (0%)]\tLoss: 0.532631\n",
      "\tAccuracy: 75.04%\n",
      "\n",
      "Train Epoch: 11 [0/1334 (0%)]\tLoss: 0.504761\n",
      "\tAccuracy: 76.91%\n",
      "\n",
      "Train Epoch: 12 [0/1334 (0%)]\tLoss: 0.504764\n",
      "\tAccuracy: 77.44%\n",
      "\n",
      "Train Epoch: 13 [0/1334 (0%)]\tLoss: 0.506635\n",
      "\tAccuracy: 78.64%\n",
      "\n",
      "Train Epoch: 14 [0/1334 (0%)]\tLoss: 0.431455\n",
      "\tAccuracy: 80.81%\n",
      "\n",
      "Train Epoch: 15 [0/1334 (0%)]\tLoss: 0.402308\n",
      "\tAccuracy: 82.08%\n",
      "\n",
      "Train Epoch: 16 [0/1334 (0%)]\tLoss: 0.396620\n",
      "\tAccuracy: 84.78%\n",
      "\n",
      "Train Epoch: 17 [0/1334 (0%)]\tLoss: 0.383836\n",
      "\tAccuracy: 85.76%\n",
      "\n",
      "Train Epoch: 18 [0/1334 (0%)]\tLoss: 0.424718\n",
      "\tAccuracy: 87.33%\n",
      "\n",
      "Train Epoch: 19 [0/1334 (0%)]\tLoss: 0.392779\n",
      "\tAccuracy: 88.31%\n",
      "\n",
      "Train Epoch: 20 [0/1334 (0%)]\tLoss: 0.340932\n",
      "\tAccuracy: 88.46%\n",
      "\n",
      "Train Epoch: 21 [0/1334 (0%)]\tLoss: 0.331118\n",
      "\tAccuracy: 91.00%\n",
      "\n",
      "Train Epoch: 22 [0/1334 (0%)]\tLoss: 0.347392\n",
      "\tAccuracy: 90.70%\n",
      "\n",
      "Train Epoch: 23 [0/1334 (0%)]\tLoss: 0.318630\n",
      "\tAccuracy: 90.70%\n",
      "\n",
      "Train Epoch: 24 [0/1334 (0%)]\tLoss: 0.415367\n",
      "\tAccuracy: 91.68%\n",
      "\n",
      "Train Epoch: 25 [0/1334 (0%)]\tLoss: 0.256137\n",
      "\tAccuracy: 90.33%\n",
      "\n",
      "Train Epoch: 26 [0/1334 (0%)]\tLoss: 0.232817\n",
      "\tAccuracy: 91.98%\n",
      "\n",
      "Train Epoch: 27 [0/1334 (0%)]\tLoss: 0.240544\n",
      "\tAccuracy: 91.00%\n",
      "\n",
      "Train Epoch: 28 [0/1334 (0%)]\tLoss: 0.272008\n",
      "\tAccuracy: 91.45%\n",
      "\n",
      "Train Epoch: 29 [0/1334 (0%)]\tLoss: 0.248037\n",
      "\tAccuracy: 92.80%\n",
      "\n",
      "Train Epoch: 30 [0/1334 (0%)]\tLoss: 0.209296\n",
      "\tAccuracy: 93.33%\n",
      "Test set: Avg. loss: -25.1669, Accuracy: 247/266 (92.86%)\n",
      "Saving FC model: FC(\n",
      "  (layer_list): ModuleList(\n",
      "    (0): Linear(in_features=2, out_features=200, bias=True)\n",
      "    (1): Linear(in_features=200, out_features=200, bias=True)\n",
      "    (2): Linear(in_features=200, out_features=4, bias=True)\n",
      "  )\n",
      ")\n",
      "Test set: Avg. loss: -77.5510, Accuracy: 1116/1334 (83.66%)\n",
      "Test set: Avg. loss: -116.6702, Accuracy: 1245/1334 (93.33%)\n"
     ]
    }
   ],
   "source": [
    "for i, model in enumerate(fc_models):\n",
    "    model.to(device)\n",
    "\n",
    "    optimizer = optim.SGD(model.parameters(), lr=learning_rate, momentum=momentum)\n",
    "\n",
    "    print(\"Training FC model {}\".format(i+1))\n",
    "\n",
    "    for epoch in range(1, n_epochs + 1):\n",
    "        train(model, train_loader, optimizer, epoch, device)\n",
    "\n",
    "    test(model, val_loader, device)\n",
    "\n",
    "    print(\"Saving FC model: {}\".format(model))\n",
    "    save_model(model, dataset=PLOT_DIR, filename=\"FC\" + str(i))\n",
    "\n",
    "for i, model in enumerate(os.listdir(\"./models/\" + PLOT_DIR + \"/\")):\n",
    "    if model.endswith(\".pth\") and \"FC\" in model:\n",
    "        fc_models[i].load_state_dict(torch.load(\"./models/\" + PLOT_DIR + \"/\" + model))\n",
    "        with torch.no_grad():\n",
    "            test(fc_models[i].to(device), train_loader, device)"
   ]
  },
  {
   "cell_type": "markdown",
   "metadata": {
    "pycharm": {
     "name": "#%% md\n"
    }
   },
   "source": [
    "## Missclassification Tracking\n",
    "\n",
    "Images tracked as tuples (batch_idx, image_idx) and can be accessed from dataset as test_dataset[batch_idx][image_idx]"
   ]
  },
  {
   "cell_type": "code",
   "execution_count": 76,
   "metadata": {
    "pycharm": {
     "name": "#%%\n"
    }
   },
   "outputs": [
    {
     "name": "stdout",
     "output_type": "stream",
     "text": [
      "Starting model test: FC(\n",
      "  (layer_list): ModuleList(\n",
      "    (0): Linear(in_features=2, out_features=200, bias=True)\n",
      "    (1): Linear(in_features=200, out_features=4, bias=True)\n",
      "  )\n",
      ")\n",
      "Finished\n",
      "Starting model test: FC(\n",
      "  (layer_list): ModuleList(\n",
      "    (0): Linear(in_features=2, out_features=200, bias=True)\n",
      "    (1): Linear(in_features=200, out_features=200, bias=True)\n",
      "    (2): Linear(in_features=200, out_features=4, bias=True)\n",
      "  )\n",
      ")\n",
      "Finished\n"
     ]
    }
   ],
   "source": [
    "misses = dict()\n",
    "complex_list = list(complex_models.values())\n",
    "for model in fc_models + complex_list:\n",
    "    print(\"Starting model test: {}\".format(model))\n",
    "\n",
    "    model.to(device)\n",
    "    model.eval()\n",
    "\n",
    "    with torch.no_grad():\n",
    "        \n",
    "        for i, (data, target) in enumerate(val_loader):\n",
    "\n",
    "            data = data.to(device)\n",
    "            target = target.to(device)\n",
    "\n",
    "            output = model(data)\n",
    "            pred = output.argmax(dim=1, keepdim=True)\n",
    "\n",
    "            missed = pred.not_equal(target.data.view_as(pred)).view(-1).cpu().numpy()\n",
    "\n",
    "            for j, miss in enumerate(missed):\n",
    "                if miss:\n",
    "                    if (i, j) in misses:\n",
    "                        misses[(i, j)] += 1\n",
    "                    else:\n",
    "                        misses[(i, j)] = 1\n",
    "\n",
    "    print(\"Finished\")"
   ]
  },
  {
   "cell_type": "code",
   "execution_count": 77,
   "metadata": {
    "pycharm": {
     "name": "#%%\n"
    }
   },
   "outputs": [
    {
     "name": "stdout",
     "output_type": "stream",
     "text": [
      "0\n",
      "44\n"
     ]
    }
   ],
   "source": [
    "all_miss = {k: v for k, v in misses.items() if v > 0}\n",
    "significant = {k: v for k, v in misses.items() if v > 19}\n",
    "print(len(significant))\n",
    "print(len(all_miss))"
   ]
  },
  {
   "cell_type": "code",
   "execution_count": 78,
   "metadata": {
    "pycharm": {
     "name": "#%%\n"
    }
   },
   "outputs": [],
   "source": [
    "y = list(all_miss.values()) + [0]*(len(val_dataset)-len(all_miss))\n",
    "\n",
    "fig = plt.figure(figsize=(12, 8), facecolor=\"w\")\n",
    "plt.hist(y, [x-0.5 for x in range(22)], edgecolor=\"k\")\n",
    "plt.xlabel(\"Number of Missclassifications\")\n",
    "plt.ylabel(\"Frequency\")\n",
    "plt.savefig(\"plots/\" + PLOT_DIR + \"/im_freq.png\")\n",
    "plt.close()"
   ]
  },
  {
   "cell_type": "markdown",
   "metadata": {
    "collapsed": false,
    "pycharm": {
     "name": "#%% md\n"
    }
   },
   "source": [
    "## Draw Decision Boundaries"
   ]
  },
  {
   "cell_type": "code",
   "execution_count": 79,
   "metadata": {
    "pycharm": {
     "name": "#%%\n"
    }
   },
   "outputs": [
    {
     "name": "stdout",
     "output_type": "stream",
     "text": [
      "Completed model 1\n",
      "Completed model 2\n"
     ]
    },
    {
     "data": {
      "image/png": "[encoded data removed]",
      "text/plain": [
       "<Figure size 432x288 with 1 Axes>"
      ]
     },
     "metadata": {
      "needs_background": "light"
     },
     "output_type": "display_data"
    }
   ],
   "source": [
    "xs = np.arange(-8,8,.1)\n",
    "ys = np.arange(-8,8,.1)\n",
    "\n",
    "for i, model in enumerate(fc_models):\n",
    "    points = []\n",
    "    preds = []\n",
    "    model.to(device)\n",
    "    for x in xs:\n",
    "        for y in ys:\n",
    "\n",
    "            points.append((x,y))\n",
    "\n",
    "            with torch.no_grad():\n",
    "                preds.append(model(torch.FloatTensor([x,y]).to(device)).argmax(dim=1, keepdim=False))\n",
    "\n",
    "    plt.scatter([x[0] for x in points], [y[1] for y in points], c=[x.cpu() for x in preds], cmap=matplotlib.colors.ListedColormap(colors))\n",
    "    plt.title(\"Decision Boundary for Model {}\".format(i))\n",
    "    plt.savefig(\"plots/\" + PLOT_DIR + \"/boundary_{}\".format(i))\n",
    "    print(\"Completed model {}\".format(i+1))"
   ]
  },
  {
   "cell_type": "code",
   "execution_count": null,
   "metadata": {
    "collapsed": false,
    "pycharm": {
     "name": "#%%\n"
    }
   },
   "outputs": [],
   "source": []
  }
 ],
 "metadata": {
  "kernelspec": {
   "display_name": "Python 3.10.5 64-bit",
   "language": "python",
   "name": "python3"
  },
  "language_info": {
   "codemirror_mode": {
    "name": "ipython",
    "version": 3
   },
   "file_extension": ".py",
   "mimetype": "text/x-python",
   "name": "python",
   "nbconvert_exporter": "python",
   "pygments_lexer": "ipython3",
   "version": "3.10.5"
  },
  "orig_nbformat": 4,
  "vscode": {
   "interpreter": {
    "hash": "e7370f93d1d0cde622a1f8e1c04877d8463912d04d973331ad4851f04de6915a"
   }
  }
 },
 "nbformat": 4,
 "nbformat_minor": 2
}
